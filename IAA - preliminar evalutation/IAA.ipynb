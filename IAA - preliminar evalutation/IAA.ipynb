{
 "cells": [
  {
   "cell_type": "code",
   "execution_count": 1,
   "metadata": {},
   "outputs": [],
   "source": [
    "import pandas as pd\n",
    "import numpy as np\n",
    "import krippendorff\n",
    "import statistics\n",
    "# import statsmodels\n",
    "# from statsmodels.stats import inter_rater"
   ]
  },
  {
   "cell_type": "code",
   "execution_count": 2,
   "metadata": {},
   "outputs": [
    {
     "name": "stdout",
     "output_type": "stream",
     "text": [
      "shape:  (101, 25)\n",
      "shape:  (100, 26)\n"
     ]
    }
   ],
   "source": [
    "df = pd.read_csv (\"/home/marem/VscProjects/theGIRLS/IAA/all_outputs - Comparazione_modelli.csv\", sep=\",\")\n",
    "print(\"shape: \", df.shape)\n",
    "df = df.reset_index()\n",
    "df = df.rename(columns={\"index\":\"temp_id\"})\n",
    "df = df.dropna()\n",
    "print(\"shape: \", df.shape)"
   ]
  },
  {
   "cell_type": "code",
   "execution_count": 3,
   "metadata": {},
   "outputs": [],
   "source": [
    "model_1 = df[['temp_id','model1_Pier', 'model1_Silvia', 'model1_Marem']]\n",
    "model_2 = df[['temp_id','model2_Pier', 'model2_Silvia', 'model2_Marem']]\n",
    "model_3 = df[['temp_id','model3_Pier', 'model3_Silvia', 'model3_Marem']]\n",
    "model_4 = df[['temp_id','model4_Pier', 'model4_Silvia', 'model4_Marem']]\n",
    "model_5 = df[['temp_id','model5_Pier', 'model5_Silvia', 'model5_Marem']]\n",
    "model_6 = df[['temp_id','model6_Pier', 'model6_Silvia', 'model6_Marem']]\n",
    "model_7 = df[['temp_id','model7_Pier', 'model7_Silvia', 'model7_Marem']]\n",
    "model_8 = df[['temp_id','model8_Pier', 'model8_Silvia', 'model8_Marem']]\n",
    "models = [model_1, model_2, model_3, model_4, model_5, model_6, model_7, model_8]"
   ]
  },
  {
   "cell_type": "code",
   "execution_count": 4,
   "metadata": {},
   "outputs": [
    {
     "name": "stdout",
     "output_type": "stream",
     "text": [
      "label  annotators   \n",
      "blu    model1_Marem      5\n",
      "       model1_Pier       4\n",
      "       model1_Silvia     3\n",
      "rosso  model1_Marem     12\n",
      "       model1_Pier       8\n",
      "       model1_Silvia    16\n",
      "verde  model1_Marem     83\n",
      "       model1_Pier      88\n",
      "       model1_Silvia    81\n",
      "Name: count, dtype: int64\n",
      "Krippendorff on model_1: 0.39\n",
      "\n",
      "\n",
      "\n",
      "label  annotators   \n",
      "blu    model2_Marem     20\n",
      "       model2_Pier      19\n",
      "       model2_Silvia    16\n",
      "rosso  model2_Marem      6\n",
      "       model2_Pier       7\n",
      "       model2_Silvia    11\n",
      "verde  model2_Marem     74\n",
      "       model2_Pier      74\n",
      "       model2_Silvia    73\n",
      "Name: count, dtype: int64\n",
      "Krippendorff on model_2: 0.78\n",
      "\n",
      "\n",
      "\n",
      "label  annotators   \n",
      "blu    model3_Marem      7\n",
      "       model3_Pier       7\n",
      "       model3_Silvia     4\n",
      "rosso  model3_Marem     10\n",
      "       model3_Pier       9\n",
      "       model3_Silvia    12\n",
      "verde  model3_Marem     83\n",
      "       model3_Pier      84\n",
      "       model3_Silvia    84\n",
      "Name: count, dtype: int64\n",
      "Krippendorff on model_3: 0.51\n",
      "\n",
      "\n",
      "\n",
      "label  annotators   \n",
      "blu    model4_Marem     28\n",
      "       model4_Pier      29\n",
      "       model4_Silvia    25\n",
      "rosso  model4_Marem      2\n",
      "       model4_Pier       2\n",
      "       model4_Silvia     6\n",
      "verde  model4_Marem     70\n",
      "       model4_Pier      69\n",
      "       model4_Silvia    69\n",
      "Name: count, dtype: int64\n",
      "Krippendorff on model_4: 0.86\n",
      "\n",
      "\n",
      "\n",
      "label  annotators   \n",
      "blu    model5_Marem      5\n",
      "       model5_Pier       4\n",
      "       model5_Silvia     2\n",
      "rosso  model5_Marem     42\n",
      "       model5_Pier      29\n",
      "       model5_Silvia    43\n",
      "verde  model5_Marem     53\n",
      "       model5_Pier      67\n",
      "       model5_Silvia    55\n",
      "Name: count, dtype: int64\n",
      "Krippendorff on model_5: 0.56\n",
      "\n",
      "\n",
      "\n",
      "label  annotators   \n",
      "blu    model6_Marem      7\n",
      "       model6_Pier       8\n",
      "       model6_Silvia     4\n",
      "rosso  model6_Marem     31\n",
      "       model6_Pier      25\n",
      "       model6_Silvia    39\n",
      "verde  model6_Marem     62\n",
      "       model6_Pier      67\n",
      "       model6_Silvia    57\n",
      "Name: count, dtype: int64\n",
      "Krippendorff on model_6: 0.51\n",
      "\n",
      "\n",
      "\n",
      "label  annotators   \n",
      "blu    model7_Marem     10\n",
      "       model7_Pier       6\n",
      "       model7_Silvia     1\n",
      "rosso  model7_Marem     52\n",
      "       model7_Pier      50\n",
      "       model7_Silvia    57\n",
      "verde  model7_Marem     38\n",
      "       model7_Pier      44\n",
      "       model7_Silvia    42\n",
      "Name: count, dtype: int64\n",
      "Krippendorff on model_7: 0.56\n",
      "\n",
      "\n",
      "\n",
      "label  annotators   \n",
      "blu    model8_Marem     23\n",
      "       model8_Pier      17\n",
      "       model8_Silvia    16\n",
      "rosso  model8_Marem     43\n",
      "       model8_Pier      45\n",
      "       model8_Silvia    50\n",
      "verde  model8_Marem     34\n",
      "       model8_Pier      38\n",
      "       model8_Silvia    34\n",
      "Name: count, dtype: int64\n",
      "Krippendorff on model_8: 0.57\n",
      "\n",
      "\n",
      "\n"
     ]
    }
   ],
   "source": [
    "list_tags = [\"correct\", \"wrong\", \"problematic\"]\n",
    "\n",
    "agreements_k = []\n",
    "dict_means = {}\n",
    "\n",
    "for i, model in enumerate(models, 1):\n",
    "    list_means = []\n",
    "    model_melted = model.melt(id_vars=\"temp_id\",var_name=\"annotators\", value_name=\"label\")\n",
    "    label_count = model_melted[[\"label\",\"annotators\"]].value_counts().sort_index()\n",
    "    print(label_count)\n",
    "    list_labels = model_melted[\"label\"].tolist()\n",
    "    tot = len(list_labels)\n",
    "    count_verde = list_labels.count(\"verde\")\n",
    "    count_rosso = list_labels.count(\"rosso\")\n",
    "    count_blu = list_labels.count(\"blu\")\n",
    "\n",
    "    mean_verde = np.round(count_verde / tot, 3)\n",
    "    mean_rosso = np.round(count_rosso / tot, 3)\n",
    "    mean_blu = np.round(count_blu / tot, 3)\n",
    "\n",
    "    list_means.append(mean_verde)\n",
    "    list_means.append(mean_rosso)\n",
    "    list_means.append(mean_blu)\n",
    "    \n",
    "    dict_means[i] = {list_tags[j]: list_means[j] for j in range(len(list_tags))}\n",
    "    # dict_means[i] = list_means\n",
    "\n",
    "    model_melted = model_melted.replace([\"verde\", \"rosso\", \"blu\"], [1, 0, -1])\n",
    "    df_label_matrix = model_melted.pivot_table(index='annotators', columns='temp_id', values='label')\n",
    "    df_label_matrix.to_csv (f\"/home/marem/VscProjects/theGIRLS/IAA/label_matrices/model_{i}.csv\")\n",
    "    label_matrix = df_label_matrix.to_numpy(na_value=np.nan, dtype='float')\n",
    "    iaa_krip = krippendorff.alpha(reliability_data=label_matrix, level_of_measurement='nominal')\n",
    "\n",
    "    agreements_k.append(iaa_krip)\n",
    "    print (f\"Krippendorff on model_{i}: {iaa_krip:.2f}\")\n",
    "    print(\"\\n\\n\")\n",
    "\n",
    "        # table = statsmodels.stats.inter_rater.aggregate_raters(label_matrix)\n",
    "    # iaa_fleiss =  statsmodels.stats.inter_rater.fleiss_kappa(table[0], method='fleiss')\n",
    "    # agreements_f.append(iaa_fleiss)\n",
    "    # print (f\"Fleiss on model_{i}: {iaa_fleiss:.2f}\")"
   ]
  },
  {
   "cell_type": "code",
   "execution_count": 5,
   "metadata": {},
   "outputs": [
    {
     "name": "stdout",
     "output_type": "stream",
     "text": [
      "Agreement on average (Krippendorff): 0.59\n"
     ]
    }
   ],
   "source": [
    "mean_agreement_k = statistics.mean(agreements_k)\n",
    "# mean_agreement_f = statistics.mean(agreements_f)\n",
    "\n",
    "print(f\"Agreement on average (Krippendorff): {mean_agreement_k:.2f}\")\n",
    "# print(f\"Agreement on average (Fleiss): {mean_agreement_f:.2f}\")"
   ]
  },
  {
   "cell_type": "code",
   "execution_count": 23,
   "metadata": {},
   "outputs": [
    {
     "name": "stdout",
     "output_type": "stream",
     "text": [
      "{'NIRO Mask-noMentions': {'correct': 0.84, 'wrong': 0.12, 'problematic': 0.04}, 'NIRO Mask-Mentions': {'correct': 0.737, 'wrong': 0.08, 'problematic': 0.183}, 'NIRO noMask_noMentions': {'correct': 0.837, 'wrong': 0.103, 'problematic': 0.06}, 'NIRO noMask-Mentions': {'correct': 0.693, 'wrong': 0.033, 'problematic': 0.273}, 'IRO Mask-noMentions': {'correct': 0.583, 'wrong': 0.38, 'problematic': 0.037}, 'IRO Mask-Mentions': {'correct': 0.62, 'wrong': 0.317, 'problematic': 0.063}, 'IRO noMask_noMentions': {'correct': 0.413, 'wrong': 0.53, 'problematic': 0.057}, 'IRO noMask-Mentions': {'correct': 0.353, 'wrong': 0.46, 'problematic': 0.187}}\n"
     ]
    }
   ],
   "source": [
    "model_name = [\"NIRO Mask-noMentions\", \"NIRO Mask-Mentions\", \"NIRO noMask_noMentions\", \"NIRO noMask-Mentions\",\n",
    "              \"IRO Mask-noMentions\", \"IRO Mask-Mentions\", \"IRO noMask_noMentions\", \"IRO noMask-Mentions\"]\n",
    "\n",
    "dict_means = dict(zip(model_name, list(dict_means.values())))\n",
    "print(dict_means)"
   ]
  },
  {
   "cell_type": "code",
   "execution_count": 24,
   "metadata": {},
   "outputs": [
    {
     "data": {
      "image/png": "[encoded data removed]",
      "text/plain": [
       "<Figure size 600x500 with 1 Axes>"
      ]
     },
     "metadata": {},
     "output_type": "display_data"
    }
   ],
   "source": [
    "import matplotlib.pyplot as plt \n",
    "colors = ['#b1cee6', '#679fce', '#27557b', '#0f2231', '#fbdd8d', '#f8c948', '#f1b308', '#8a6604']\n",
    "ax= pd.DataFrame(dict_means).plot(kind='bar', color=colors, figsize=(6,5), fontsize=8)\n",
    "ax.set_xticklabels(ax.get_xticklabels(), rotation=0, ha='center', fontsize=10)\n",
    "# plt.legend(fontsize=8)\n",
    "ax.set_ylabel('Percentage', fontsize=10)\n",
    "handles, labels = ax.get_legend_handles_labels()\n",
    "new_labels = [\n",
    "    r'NIRO$_{Mask-noMentions}$',\n",
    "    r'NIRO$_{Mask-Mentions}$',\n",
    "    r'NIRO$_{noMask-noMentions}$',\n",
    "    r'NIRO$_{noMask-Mentions}$',\n",
    "    r'IRO$_{Mask-noMentions}$',\n",
    "    r'IRO$_{Mask-Mentions}$',\n",
    "    r'IRO$_{noMask-noMentions}$',\n",
    "    r'IRO$_{noMask-Mentions}$'\n",
    "]\n",
    "ax.legend(handles, new_labels, fontsize=8)\n",
    "plt.savefig(\"plot_model_choice.png\")\n",
    "plt.show()\n"
   ]
  },
  {
   "cell_type": "code",
   "execution_count": null,
   "metadata": {},
   "outputs": [],
   "source": []
  }
 ],
 "metadata": {
  "kernelspec": {
   "display_name": "Python 3",
   "language": "python",
   "name": "python3"
  },
  "language_info": {
   "codemirror_mode": {
    "name": "ipython",
    "version": 3
   },
   "file_extension": ".py",
   "mimetype": "text/x-python",
   "name": "python",
   "nbconvert_exporter": "python",
   "pygments_lexer": "ipython3",
   "version": "3.11.0"
  }
 },
 "nbformat": 4,
 "nbformat_minor": 2
}
