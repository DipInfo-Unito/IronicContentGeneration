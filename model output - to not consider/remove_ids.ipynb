{
 "cells": [
  {
   "cell_type": "code",
   "execution_count": 1,
   "metadata": {},
   "outputs": [],
   "source": [
    "import pandas as pd\n"
   ]
  },
  {
   "cell_type": "code",
   "execution_count": 2,
   "metadata": {},
   "outputs": [],
   "source": [
    "test = pd.read_csv(\"/home/marem/VscProjects/theGIRLS/data/aggregated_test_set.csv\", sep=\",\")"
   ]
  },
  {
   "cell_type": "code",
   "execution_count": 3,
   "metadata": {},
   "outputs": [
    {
     "name": "stdout",
     "output_type": "stream",
     "text": [
      "(553, 5)\n",
      "553\n",
      "536\n"
     ]
    }
   ],
   "source": [
    "print(test.shape)\n",
    "list_parent = test[\"parent_text\"].tolist()\n",
    "print(len(list_parent))\n",
    "print(len(set(list_parent)))"
   ]
  },
  {
   "cell_type": "code",
   "execution_count": 4,
   "metadata": {},
   "outputs": [
    {
     "name": "stdout",
     "output_type": "stream",
     "text": [
      "['I hate people who use big words just to make themselves look perspicacious.', 'Do join @JuliaHB1 and me on @TalkTV at 9 am. On all matters EU and of course Northern Ireland. \\n\\nAnd to all remainers who feared so chlorinated chicken but now want a deal with the US: Northern Ireland’s place in the UK trumps your new found sensibilities.', 'Any idea why Infosys futures is at 24-25 buck discount to spot? Dividend is only around 16 or so?', \"I have a bidet so can ration toilet paper pretty well but I guess a lot of people can't :P I can understand why people might stock up on it if they're worried though, they'll eventually use it so not really a waste of money plus it's one of my worst nightmares to run out of toilet paper and I think I'm not alone in that fear.\", 'It’s Official! I’m Irish!', 'Google Maps only asks you for feedback on its navigation when it knows it did a good job.\\nI use navigation all the time, and I find that when it gets me to the destination on time or earlier than predicted, I get a notification asking to rate the trip. But if it gets me there after it originally estimated, I never get that notification.', 'Code with music or without?', \"Someone I don't know sent me a message saying I'm a very arrogant girl,Do you also think that I am such a person???\", \"Two most difficult areas in counseling in medicine -\\n1. Convincing a patient with widal positive test that they don't need an antibiotic\\n2. Convincing patient to start/switch to insulin when the situation demands.\\n#MedTwitter\\nAny other issues frequently faced in counseling?\", \"I know a few people who are acting like it is doomsday stocking up on everything.\\nI know several people that don't give a shit.\\nI know some people that are just avoiding crowds/sick people/using common sense and washing their damn hands.\\nHonestly, if you didn't give a shit about flu season for the past two decades, why are you acting so scared or proactive around covid virus?\", 'Man creates bondage, grief, tension and problems through action. He creates enemies through action; and when he performs good action, he achieves God through action. #AsharamjiBapuQuotes', 'Because she invested her own money to have the place cleaned up and painted. Now the landlord can command more rent from a new tenant.', 'It\\'s also fascinating to see people on the Left suddenly screaming \"The markets are losing confidence in the Truss plan!!! Look at the pound!!!! Look at the ratings agencies!!!! We have to listen to the markets!!!!\".', 'So Peter Obi lied to Nigerians when he said \"I studied Philosophy\".\\n\\nThere is no subject called Philosophy in GCE.', 'Please say a prayer for me for I feel very alone tonight.', \"Kevin Sorbo is asking people if they regret getting the jab, firing up thousands of MAGA lunatics in the comments. Let's fight back.\\n\\nDrop me a ? below if you are HAPPY you got vaccinated! ?\"]\n"
     ]
    }
   ],
   "source": [
    "def find_duplicates(original_list):\n",
    "    # Step 1: Count occurrences of each element\n",
    "    occurrence_count = {}\n",
    "    for item in original_list:\n",
    "        if item in occurrence_count:\n",
    "            occurrence_count[item] += 1\n",
    "        else:\n",
    "            occurrence_count[item] = 1\n",
    "    \n",
    "    # Step 2: Filter elements that have more than one occurrence\n",
    "    duplicates = [item for item, count in occurrence_count.items() if count > 1]\n",
    "    \n",
    "    return duplicates\n",
    "\n",
    "# Example usage\n",
    "duplicate_list = find_duplicates(list_parent)\n",
    "print(duplicate_list)"
   ]
  },
  {
   "cell_type": "code",
   "execution_count": 5,
   "metadata": {},
   "outputs": [
    {
     "name": "stdout",
     "output_type": "stream",
     "text": [
      "I hate people who use big words just to make themselves look perspicacious.\n",
      "------------------------------------------\n",
      "Do join @JuliaHB1 and me on @TalkTV at 9 am. On all matters EU and of course Northern Ireland. \n",
      "\n",
      "And to all remainers who feared so chlorinated chicken but now want a deal with the US: Northern Ireland’s place in the UK trumps your new found sensibilities.\n",
      "------------------------------------------\n",
      "Any idea why Infosys futures is at 24-25 buck discount to spot? Dividend is only around 16 or so?\n",
      "------------------------------------------\n",
      "I have a bidet so can ration toilet paper pretty well but I guess a lot of people can't :P I can understand why people might stock up on it if they're worried though, they'll eventually use it so not really a waste of money plus it's one of my worst nightmares to run out of toilet paper and I think I'm not alone in that fear.\n",
      "------------------------------------------\n",
      "It’s Official! I’m Irish!\n",
      "------------------------------------------\n",
      "Google Maps only asks you for feedback on its navigation when it knows it did a good job.\n",
      "I use navigation all the time, and I find that when it gets me to the destination on time or earlier than predicted, I get a notification asking to rate the trip. But if it gets me there after it originally estimated, I never get that notification.\n",
      "------------------------------------------\n",
      "Code with music or without?\n",
      "------------------------------------------\n",
      "Someone I don't know sent me a message saying I'm a very arrogant girl,Do you also think that I am such a person???\n",
      "------------------------------------------\n",
      "Two most difficult areas in counseling in medicine -\n",
      "1. Convincing a patient with widal positive test that they don't need an antibiotic\n",
      "2. Convincing patient to start/switch to insulin when the situation demands.\n",
      "#MedTwitter\n",
      "Any other issues frequently faced in counseling?\n",
      "------------------------------------------\n",
      "I know a few people who are acting like it is doomsday stocking up on everything.\n",
      "I know several people that don't give a shit.\n",
      "I know some people that are just avoiding crowds/sick people/using common sense and washing their damn hands.\n",
      "Honestly, if you didn't give a shit about flu season for the past two decades, why are you acting so scared or proactive around covid virus?\n",
      "------------------------------------------\n",
      "Man creates bondage, grief, tension and problems through action. He creates enemies through action; and when he performs good action, he achieves God through action. #AsharamjiBapuQuotes\n",
      "------------------------------------------\n",
      "Because she invested her own money to have the place cleaned up and painted. Now the landlord can command more rent from a new tenant.\n",
      "------------------------------------------\n",
      "It's also fascinating to see people on the Left suddenly screaming \"The markets are losing confidence in the Truss plan!!! Look at the pound!!!! Look at the ratings agencies!!!! We have to listen to the markets!!!!\".\n",
      "------------------------------------------\n",
      "So Peter Obi lied to Nigerians when he said \"I studied Philosophy\".\n",
      "\n",
      "There is no subject called Philosophy in GCE.\n",
      "------------------------------------------\n",
      "Please say a prayer for me for I feel very alone tonight.\n",
      "------------------------------------------\n",
      "Kevin Sorbo is asking people if they regret getting the jab, firing up thousands of MAGA lunatics in the comments. Let's fight back.\n",
      "\n",
      "Drop me a ? below if you are HAPPY you got vaccinated! ?\n",
      "------------------------------------------\n"
     ]
    }
   ],
   "source": [
    "for i in duplicate_list:\n",
    "    print(i)\n",
    "    print(\"------------------------------------------\")"
   ]
  },
  {
   "cell_type": "code",
   "execution_count": 6,
   "metadata": {},
   "outputs": [
    {
     "name": "stdout",
     "output_type": "stream",
     "text": [
      "(787, 9) (787, 9)\n"
     ]
    }
   ],
   "source": [
    "df_young = pd.read_csv(\"/home/marem/VscProjects/theGIRLS/scripts/outputs/Young_True_mask_no_user.csv\", sep=\",\")\n",
    "df_old = pd.read_csv(\"/home/marem/VscProjects/theGIRLS/scripts/outputs/Old_True_mask_no_user.csv\", sep=\",\")\n",
    "\n",
    "print(df_young.shape, df_old.shape)\n",
    "\n",
    "\n",
    "df_young = df_young[[\"id_original\", \"text\", \"parent_text\", \"label\", \"source\", \"origin\", \"Young\"]]\n",
    "df_old = df_old[[\"Old\"]]"
   ]
  },
  {
   "cell_type": "code",
   "execution_count": 7,
   "metadata": {},
   "outputs": [],
   "source": [
    "df_test_E2 = pd.concat([df_old, df_young], axis=1)\n",
    "df_test_E2 = df_test_E2 [[\"id_original\",\"parent_text\", \"text\", \"Old\", \"Young\", \"label\", \"source\", \"origin\"]]\n",
    "df_test_E2_no_dup = df_test_E2.drop_duplicates(subset=[\"id_original\"])\n",
    "df_test_E2_no_dup.to_csv(\"outputs_E2.csv\")"
   ]
  },
  {
   "cell_type": "code",
   "execution_count": 8,
   "metadata": {},
   "outputs": [
    {
     "name": "stdout",
     "output_type": "stream",
     "text": [
      "(471, 8)\n",
      "471\n",
      "462\n",
      "['The four seasons in Australia are Summer, Summer, Winter and Summer.', \"The theory that Epstein didn't kill himself. Memes aside, he could've probably exposed a lot more rich people for their sex crimes. They just bumped him off before he could do so.\", \"Can't get it without being anti-national.\", \"Is there anyone else on twitter today that didn't watch any of the pageantry on the TV.\", 'All these people who start feeling dizzy, nauseous after 30 kms of car ride with or without AC should be considered as weaker section human civilization and be barred from travelling', 'BabyDoc passed all 4th year exams, that’s made my week #grateful', 'Context: I was recently booted from a perm part time job that I held for a year, after I was made casual 2 weeks prior to being booted and hours going from 20+ a week to 3-6. Placed back into Newstart I was apparently in the \\'work for the dole phase\\' where I had on my file that \"Essential Skills for Work\" was a course that is mandatory to complete. 2 weeks, 9 till 2 of the most transparent cash grab of a course I have ever seen. English is broken at best, most multiple choices don\\'t actually have correct values in them (i.e one wanted to calculate 15 hours of pay at $17.50 an hour, but had 5 choices all under $70). I am currently trying to complete a supplementary course in Python, specifically ML, and was going to use my free time during the day to jobsearch... Mandatory. 5 hours a day for 2 weeks. I have to sit in this popup office and cannot complete it in my own time at my home computer. Doing this blatant government supplement cash grab that we\\'re all paying for. None of the people who \\'work\\' in the office actually have anything to do with the course; all they do is schedule and mark you off as attended. LP Pathways is the name of the provider of this gem. Edit: Bonus image. Parts of the course that require supervision are just ignored as that would be a waste of profit. Edit 2, the sequel: It is not too. Currently lodging a formal complaint as my Employment Provider is refusing to negotiate my contract with them to get me out of this nightmare.', 'If your Twitter Crush said “Ima be in your area a couple hours away, can you come and let me take you on a date?” Not a link, a legit date. Would you go? Or no? Are you scared']\n"
     ]
    }
   ],
   "source": [
    "print(df_test_E2_no_dup.shape)\n",
    "list_parent_E2 = df_test_E2_no_dup[\"parent_text\"].tolist()\n",
    "print(len(list_parent_E2))\n",
    "print(len(set(list_parent_E2)))\n",
    "\n",
    "duplicate_list_E2 = find_duplicates(list_parent_E2)\n",
    "print(duplicate_list_E2)"
   ]
  },
  {
   "cell_type": "code",
   "execution_count": 9,
   "metadata": {},
   "outputs": [
    {
     "name": "stdout",
     "output_type": "stream",
     "text": [
      "8\n"
     ]
    }
   ],
   "source": [
    "print(len(duplicate_list_E2))"
   ]
  },
  {
   "cell_type": "code",
   "execution_count": 10,
   "metadata": {},
   "outputs": [
    {
     "name": "stdout",
     "output_type": "stream",
     "text": [
      "The four seasons in Australia are Summer, Summer, Winter and Summer.\n",
      "------------------------------------------\n",
      "The theory that Epstein didn't kill himself. Memes aside, he could've probably exposed a lot more rich people for their sex crimes. They just bumped him off before he could do so.\n",
      "------------------------------------------\n",
      "Can't get it without being anti-national.\n",
      "------------------------------------------\n",
      "Is there anyone else on twitter today that didn't watch any of the pageantry on the TV.\n",
      "------------------------------------------\n",
      "All these people who start feeling dizzy, nauseous after 30 kms of car ride with or without AC should be considered as weaker section human civilization and be barred from travelling\n",
      "------------------------------------------\n",
      "BabyDoc passed all 4th year exams, that’s made my week #grateful\n",
      "------------------------------------------\n",
      "Context: I was recently booted from a perm part time job that I held for a year, after I was made casual 2 weeks prior to being booted and hours going from 20+ a week to 3-6. Placed back into Newstart I was apparently in the 'work for the dole phase' where I had on my file that \"Essential Skills for Work\" was a course that is mandatory to complete. 2 weeks, 9 till 2 of the most transparent cash grab of a course I have ever seen. English is broken at best, most multiple choices don't actually have correct values in them (i.e one wanted to calculate 15 hours of pay at $17.50 an hour, but had 5 choices all under $70). I am currently trying to complete a supplementary course in Python, specifically ML, and was going to use my free time during the day to jobsearch... Mandatory. 5 hours a day for 2 weeks. I have to sit in this popup office and cannot complete it in my own time at my home computer. Doing this blatant government supplement cash grab that we're all paying for. None of the people who 'work' in the office actually have anything to do with the course; all they do is schedule and mark you off as attended. LP Pathways is the name of the provider of this gem. Edit: Bonus image. Parts of the course that require supervision are just ignored as that would be a waste of profit. Edit 2, the sequel: It is not too. Currently lodging a formal complaint as my Employment Provider is refusing to negotiate my contract with them to get me out of this nightmare.\n",
      "------------------------------------------\n",
      "If your Twitter Crush said “Ima be in your area a couple hours away, can you come and let me take you on a date?” Not a link, a legit date. Would you go? Or no? Are you scared\n",
      "------------------------------------------\n"
     ]
    }
   ],
   "source": [
    "for i in duplicate_list_E2:\n",
    "    print(i)\n",
    "    print(\"------------------------------------------\")"
   ]
  }
 ],
 "metadata": {
  "kernelspec": {
   "display_name": "Python 3",
   "language": "python",
   "name": "python3"
  },
  "language_info": {
   "codemirror_mode": {
    "name": "ipython",
    "version": 3
   },
   "file_extension": ".py",
   "mimetype": "text/x-python",
   "name": "python",
   "nbconvert_exporter": "python",
   "pygments_lexer": "ipython3",
   "version": "3.11.0"
  }
 },
 "nbformat": 4,
 "nbformat_minor": 2
}
