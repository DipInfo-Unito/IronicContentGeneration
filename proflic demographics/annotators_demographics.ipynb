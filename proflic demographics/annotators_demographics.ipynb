{
 "cells": [
  {
   "cell_type": "code",
   "execution_count": 62,
   "metadata": {},
   "outputs": [],
   "source": [
    "import pandas as pd"
   ]
  },
  {
   "cell_type": "code",
   "execution_count": 63,
   "metadata": {},
   "outputs": [],
   "source": [
    "DIR = \"/home/marem/VscProjects/\""
   ]
  },
  {
   "cell_type": "code",
   "execution_count": 64,
   "metadata": {},
   "outputs": [],
   "source": [
    "pilot_e1 = pd.read_csv(DIR+\"theGIRLS/dem_data/prolific_export_6658e5c73a0758f928c3e072.csv\", sep=\",\")\n",
    "exp_e1 = pd.read_csv(DIR+\"theGIRLS/dem_data/prolific_export_665dd15ee104ab913c99b443.csv\", sep=\",\")\n",
    "\n",
    "pilot_e2 = pd.read_csv(DIR+\"theGIRLS/dem_data/prolific_export_6667049e531eda21de08e8d6.csv\", sep=\",\")\n",
    "exp_e2_young = pd.read_csv(DIR+\"theGIRLS/dem_data/prolific_export_66671a032ce8d69cea6e6d7a.csv\", sep=\",\")\n",
    "exp_e2_old = pd.read_csv(DIR+\"theGIRLS/dem_data/prolific_export_66671ab7a95b284083aad2d5.csv\", sep=\",\")"
   ]
  },
  {
   "cell_type": "code",
   "execution_count": 65,
   "metadata": {},
   "outputs": [],
   "source": [
    "annotations_e1 = pd.read_csv(\"/home/marem/VscProjects/theGIRLS/annotation/E1_clean.csv\", sep=\",\")\n",
    "annotations_e2_young = pd.read_csv(\"/home/marem/VscProjects/theGIRLS/annotation/young_annotations.csv\", sep=\",\").drop([0,1])\n",
    "annotations_e2_old = pd.read_csv(\"/home/marem/VscProjects/theGIRLS/annotation/old_annotations.csv\", sep=\",\").drop([0,1])"
   ]
  },
  {
   "cell_type": "code",
   "execution_count": 66,
   "metadata": {},
   "outputs": [],
   "source": [
    "pilot_e2_young = pilot_e2[pilot_e2[\"Age\"] < 42]\n",
    "pilot_e2_old = pilot_e2[pilot_e2[\"Age\"] >=42]"
   ]
  },
  {
   "cell_type": "code",
   "execution_count": 67,
   "metadata": {},
   "outputs": [
    {
     "name": "stdout",
     "output_type": "stream",
     "text": [
      "122 (131, 20)\n"
     ]
    }
   ],
   "source": [
    "E1 = pd.concat([pilot_e1, exp_e1], axis=0)\n",
    "id_a1 = annotations_e1[\"PROLIFIC_PID\"].tolist()\n",
    "\n",
    "E1_clean = E1[E1[\"Participant id\"].isin(id_a1)]\n",
    "\n",
    "print(len(id_a1), E1.shape)"
   ]
  },
  {
   "cell_type": "code",
   "execution_count": 68,
   "metadata": {},
   "outputs": [],
   "source": [
    "# E1_ = E1[E1[\"Status\"].isin([\"APPROVED\"])]\n",
    "# E1_ = E1_[E1_[\"Participant id\"] != \"665a25ae3d8060f7da3e3816\"]"
   ]
  },
  {
   "cell_type": "code",
   "execution_count": 69,
   "metadata": {},
   "outputs": [],
   "source": [
    "# for i in annotations_e1[\"PROLIFIC_PID\"]: \n",
    "#     if i == \"665a25ae3d8060f7da3e3816\":\n",
    "#         print (\"upsy\")"
   ]
  },
  {
   "cell_type": "code",
   "execution_count": 70,
   "metadata": {},
   "outputs": [
    {
     "data": {
      "text/plain": [
       "6527d5e2e4a9568285c94649    1\n",
       "6658b9612faf93a372286472    1\n",
       "665af1d39e0feaeeb7f07b80    1\n",
       "6655db41c4846ed2199cb7a6    1\n",
       "6658b1655dd6261e4ddcaacd    1\n",
       "                           ..\n",
       "665898d0132cc745af623e3d    1\n",
       "6658d13e8f1ee667f426421c    1\n",
       "5c97abbfae71890001f15e08    1\n",
       "593533d4ed2e9a0001d37c0b    1\n",
       "6605b8e08b4ba58daf82c7bc    1\n",
       "Name: count, Length: 122, dtype: int64"
      ]
     },
     "execution_count": 70,
     "metadata": {},
     "output_type": "execute_result"
    }
   ],
   "source": [
    "pd.Series(id_a1).value_counts()"
   ]
  },
  {
   "cell_type": "code",
   "execution_count": 71,
   "metadata": {},
   "outputs": [
    {
     "name": "stdout",
     "output_type": "stream",
     "text": [
      "51 (53, 20) (51, 20)\n",
      "51 (58, 20) (51, 20)\n"
     ]
    }
   ],
   "source": [
    "E2_young = pd.concat([pilot_e2_young, exp_e2_young], axis=0)\n",
    "E2_old = pd.concat([pilot_e2_old, exp_e2_old], axis=0)\n",
    "\n",
    "id_e2_y = annotations_e2_young[\"PROLIFIC_PID\"].tolist()\n",
    "id_e2_o = annotations_e2_old[\"PROLIFIC_PID\"].tolist()\n",
    "\n",
    "E2_young_clean = E2_young[E2_young[\"Participant id\"].isin(id_e2_y)]#.reset_index(inplace=True)\n",
    "E2_old_clean = E2_old[E2_old[\"Participant id\"].isin(id_e2_o)]#.reset_index(inplace=True)\n",
    "\n",
    "print(len(id_e2_y), E2_young.shape, E2_young_clean.shape)\n",
    "print(len(id_e2_o), E2_old.shape, E2_old_clean.shape)"
   ]
  },
  {
   "cell_type": "code",
   "execution_count": 72,
   "metadata": {},
   "outputs": [],
   "source": [
    "def generation(df):\n",
    "    if df['Age']>=60:\n",
    "        val = 'Boomer'\n",
    "    elif (df['Age']<= 59) & (df['Age']>=44):\n",
    "        val = 'GenX'\n",
    "    elif (df['Age']<= 43) & (df['Age']>=28):\n",
    "        val = 'GenY'\n",
    "    elif (df['Age']<= 27) & (df['Age']>=12):\n",
    "        val = 'GenZ'\n",
    "    else:\n",
    "        val = 'Unknown'\n",
    "    return val\n",
    "\n",
    "def generation_simplified(df):\n",
    "    if (df['Age']>=60) & (df['Age']>=44):\n",
    "        val = 'Old'\n",
    "    elif (df['Age']<= 41) & (df['Age']>=12):\n",
    "        val = 'Young'\n",
    "    else:\n",
    "        val = 'Unknown'\n",
    "    return val\n",
    "\n",
    "def emplyed_unimployed(df):\n",
    "    if (df['Employment status'] == \"Full-Time\") \\\n",
    "        or (df['Employment status'] == \"Part-Time\"):\n",
    "        val = 'Yes'\n",
    "    else:\n",
    "        val = 'No'\n",
    "    return val"
   ]
  },
  {
   "cell_type": "code",
   "execution_count": 73,
   "metadata": {},
   "outputs": [],
   "source": [
    "E1_clean.reset_index(inplace=True)\n",
    "# E2_young_clean = E2_young_clean.reset_index(inplace=True)\n",
    "# E2_old_clean = E2_old_clean.reset_index(inplace=True)\n"
   ]
  },
  {
   "cell_type": "code",
   "execution_count": 74,
   "metadata": {},
   "outputs": [],
   "source": [
    "pd.options.mode.chained_assignment = None  # default='warn'\n",
    "\n",
    "E2_young_clean[\"Age\"] = E2_young_clean[\"Age\"].loc[(E2_young_clean['Age']!= 'CONSENT_REVOKED') & (E2_young_clean['Age']!= 'DATA_EXPIRED')].astype(int)\n",
    "E2_old_clean[\"Age\"] = E2_old_clean[\"Age\"].loc[(E2_old_clean['Age']!= 'CONSENT_REVOKED') & (E2_old_clean['Age']!= 'DATA_EXPIRED')].astype(int)\n"
   ]
  },
  {
   "cell_type": "code",
   "execution_count": 75,
   "metadata": {},
   "outputs": [],
   "source": [
    "E1_clean[\"Age\"] = E1_clean[\"Age\"].loc[(E1_clean['Age']!= 'CONSENT_REVOKED') & (E1_clean['Age']!= 'DATA_EXPIRED')].astype(int)"
   ]
  },
  {
   "cell_type": "code",
   "execution_count": 76,
   "metadata": {},
   "outputs": [],
   "source": [
    "E2_young_clean[\"Generation\"] = E2_young_clean.apply(generation_simplified, axis=1)\n",
    "E2_old_clean[\"Generation\"] = E2_old_clean.apply(generation_simplified, axis=1)\n",
    "E1_clean[\"Generationi\"] = E1_clean.apply(generation_simplified, axis=1)\n",
    "\n",
    "E2_young_clean[\"Employment\"] = E2_young_clean.apply(emplyed_unimployed, axis=1)\n",
    "E2_old_clean[\"Employment\"] = E2_old_clean.apply(emplyed_unimployed, axis=1)\n",
    "E1_clean[\"Employment\"] = E1_clean.apply(emplyed_unimployed, axis=1)"
   ]
  },
  {
   "cell_type": "code",
   "execution_count": 77,
   "metadata": {},
   "outputs": [],
   "source": [
    "def get_statistics(df):\n",
    "    print(df[\"Sex\"].value_counts())\n",
    "    print(\"\\n\\n\",df[\"Ethnicity simplified\"].value_counts())\n",
    "    print(\"\\n\\n\",df[\"Nationality\"].value_counts())\n",
    "    print(\"\\n\\n\",df[\"Student status\"].value_counts())\n",
    "    print(\"\\n\\n\",df[\"Employment\"].value_counts())\n",
    "    if \"Generation\" in df.columns:\n",
    "        print(\"\\n\\n\",df[\"Generation\"].value_counts())\n",
    "    elif \"Generationi simplified\"  in df.columns:\n",
    "        print(\"\\n\\n\",df[\"Generationi simplified\"].value_counts())\n",
    "\n"
   ]
  },
  {
   "cell_type": "code",
   "execution_count": 78,
   "metadata": {},
   "outputs": [
    {
     "name": "stdout",
     "output_type": "stream",
     "text": [
      "Sex\n",
      "Female             65\n",
      "Male               52\n",
      "CONSENT_REVOKED     4\n",
      "Name: count, dtype: int64\n",
      "\n",
      "\n",
      " Ethnicity simplified\n",
      "White              84\n",
      "Black              15\n",
      "Asian               9\n",
      "Mixed               6\n",
      "CONSENT_REVOKED     4\n",
      "Other               2\n",
      "DATA_EXPIRED        1\n",
      "Name: count, dtype: int64\n",
      "\n",
      "\n",
      " Nationality\n",
      "United Kingdom     71\n",
      "Canada             19\n",
      "South Africa       10\n",
      "United States       6\n",
      "CONSENT_REVOKED     4\n",
      "Ireland             2\n",
      "Mexico              1\n",
      "Nigeria             1\n",
      "Vietnam             1\n",
      "Sweden              1\n",
      "Poland              1\n",
      "Australia           1\n",
      "India               1\n",
      "Sri Lanka           1\n",
      "DATA_EXPIRED        1\n",
      "Name: count, dtype: int64\n",
      "\n",
      "\n",
      " Student status\n",
      "No                 82\n",
      "DATA_EXPIRED       20\n",
      "Yes                15\n",
      "CONSENT_REVOKED     4\n",
      "Name: count, dtype: int64\n",
      "\n",
      "\n",
      " Employment\n",
      "Yes    62\n",
      "No     59\n",
      "Name: count, dtype: int64\n"
     ]
    }
   ],
   "source": [
    "get_statistics(E1_clean)\n"
   ]
  },
  {
   "cell_type": "code",
   "execution_count": 79,
   "metadata": {},
   "outputs": [
    {
     "name": "stdout",
     "output_type": "stream",
     "text": [
      "Sex\n",
      "Female    38\n",
      "Male      13\n",
      "Name: count, dtype: int64\n",
      "\n",
      "\n",
      " Ethnicity simplified\n",
      "White    33\n",
      "Black     8\n",
      "Mixed     6\n",
      "Asian     3\n",
      "Other     1\n",
      "Name: count, dtype: int64\n",
      "\n",
      "\n",
      " Nationality\n",
      "United Kingdom    21\n",
      "United States     10\n",
      "Canada             7\n",
      "South Africa       5\n",
      "Nigeria            2\n",
      "Australia          1\n",
      "Poland             1\n",
      "India              1\n",
      "New Zealand        1\n",
      "Ireland            1\n",
      "Korea              1\n",
      "Name: count, dtype: int64\n",
      "\n",
      "\n",
      " Student status\n",
      "No              31\n",
      "DATA_EXPIRED    11\n",
      "Yes              9\n",
      "Name: count, dtype: int64\n",
      "\n",
      "\n",
      " Employment\n",
      "Yes    28\n",
      "No     23\n",
      "Name: count, dtype: int64\n",
      "\n",
      "\n",
      " Generation\n",
      "Young    51\n",
      "Name: count, dtype: int64\n"
     ]
    }
   ],
   "source": [
    "get_statistics(E2_young_clean)"
   ]
  },
  {
   "cell_type": "code",
   "execution_count": 80,
   "metadata": {},
   "outputs": [
    {
     "name": "stdout",
     "output_type": "stream",
     "text": [
      "Sex\n",
      "Female    38\n",
      "Male      13\n",
      "Name: count, dtype: int64\n",
      "\n",
      "\n",
      " Ethnicity simplified\n",
      "White    44\n",
      "Black     4\n",
      "Asian     3\n",
      "Name: count, dtype: int64\n",
      "\n",
      "\n",
      " Nationality\n",
      "United Kingdom    39\n",
      "Canada             6\n",
      "Ireland            2\n",
      "South Africa       2\n",
      "United States      1\n",
      "Nigeria            1\n",
      "Name: count, dtype: int64\n",
      "\n",
      "\n",
      " Student status\n",
      "No              36\n",
      "DATA_EXPIRED    13\n",
      "Yes              2\n",
      "Name: count, dtype: int64\n",
      "\n",
      "\n",
      " Employment\n",
      "Yes    26\n",
      "No     25\n",
      "Name: count, dtype: int64\n",
      "\n",
      "\n",
      " Generation\n",
      "Unknown    44\n",
      "Old         7\n",
      "Name: count, dtype: int64\n"
     ]
    }
   ],
   "source": [
    "get_statistics(E2_old_clean)"
   ]
  },
  {
   "cell_type": "code",
   "execution_count": null,
   "metadata": {},
   "outputs": [],
   "source": []
  }
 ],
 "metadata": {
  "kernelspec": {
   "display_name": "Python 3",
   "language": "python",
   "name": "python3"
  },
  "language_info": {
   "codemirror_mode": {
    "name": "ipython",
    "version": 3
   },
   "file_extension": ".py",
   "mimetype": "text/x-python",
   "name": "python",
   "nbconvert_exporter": "python",
   "pygments_lexer": "ipython3",
   "version": "3.11.0"
  }
 },
 "nbformat": 4,
 "nbformat_minor": 2
}
